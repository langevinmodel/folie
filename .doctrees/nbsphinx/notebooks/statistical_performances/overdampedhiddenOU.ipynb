{
 "cells": [
  {
   "cell_type": "markdown",
   "id": "2199d582",
   "metadata": {},
   "source": [
    "# Overdamped with hidden variables"
   ]
  },
  {
   "cell_type": "code",
   "execution_count": null,
   "id": "ad5f8a73-e432-41db-bf0b-625ff80db5b6",
   "metadata": {},
   "outputs": [],
   "source": [
    "import numpy as np\n",
    "import folie as fl\n",
    "import matplotlib.pyplot as plt\n"
   ]
  },
  {
   "cell_type": "markdown",
   "id": "0191d59f-9793-4efc-9fe7-fc53cd46f4d1",
   "metadata": {},
   "source": []
  },
  {
   "cell_type": "code",
   "execution_count": null,
   "id": "b1a4b8c2-948a-4bcd-b4b2-6208c1684260",
   "metadata": {},
   "outputs": [],
   "source": [
    "model_simu = model_simu = fl.models.OrnsteinUhlenbeck(dim=3)\n",
    "data_dts = []\n",
    "list_dts = [1e-3, 5e-3, 1e-2, 5e-2]\n",
    "for dt in list_dts:\n",
    "    simulator = fl.Simulator(fl.simulations.ExactStepper(model_simu), dt, keep_dim=1)\n",
    "    data_dts.append(simulator.run(5000, np.random.normal(loc=0.0, scale=1.0, size=(25, 3)), 25))"
   ]
  },
  {
   "cell_type": "markdown",
   "id": "a1d5f7af-d2e2-4511-aea2-e61c32f0929b",
   "metadata": {},
   "source": []
  },
  {
   "cell_type": "code",
   "execution_count": null,
   "id": "473bb54a-7291-4019-9004-a6b260e9c599",
   "metadata": {},
   "outputs": [],
   "source": [
    "fig, axs = plt.subplots(1, len(model_simu.coefficients))\n",
    "\n",
    "for name, transitioncls in zip(\n",
    "    [\"Euler\"],\n",
    "    [\n",
    "        fl.EulerDensity,\n",
    "    ],\n",
    "):\n",
    "    fun_lin = fl.functions.Linear().fit(data_dts[0])\n",
    "    fun_frct = fl.functions.Constant().fit(data_dts[0])\n",
    "    fun_cst = fl.functions.Constant().fit(data_dts[0])\n",
    "    model = fl.models.OverdampedHidden(fun_lin, fun_frct, fun_cst, dim=1, dim_h=2)\n",
    "    estimator = fl.EMEstimator(transitioncls(model), max_iter=15, verbose=2, verbose_interval=1)\n",
    "    coeffs_vals = np.empty((len(data_dts), len(model.coefficients)))\n",
    "    for n, data in enumerate(data_dts):\n",
    "        res = estimator.fit_fetch(\n",
    "            data[\n",
    "                :,\n",
    "            ]\n",
    "        )\n",
    "        coeffs_vals[n, :] = res.coefficients\n",
    "    for n in range(len(axs)):\n",
    "        axs[n].plot(list_dts, np.abs(coeffs_vals[:, n] - model_simu.coefficients[n]), \"-+\", label=name)\n",
    "for n in range(len(axs)):\n",
    "    axs[n].legend()\n",
    "    axs[n].set_yscale(\"log\")\n",
    "    axs[n].grid()\n",
    "    axs[n].set_xlabel(\"$\\\\Delta t\")\n",
    "    axs[n].set_ylabel(\"$|c-c_{real}|$\")\n",
    "plt.show()\n"
   ]
  }
 ],
 "metadata": {
  "kernelspec": {
   "display_name": "Python 3.8",
   "language": "python",
   "name": "python3.8"
  },
  "language_info": {
   "codemirror_mode": {
    "name": "ipython",
    "version": 3
   },
   "file_extension": ".py",
   "mimetype": "text/x-python",
   "name": "python",
   "nbconvert_exporter": "python",
   "pygments_lexer": "ipython3",
   "version": "3.8.18"
  }
 },
 "nbformat": 4,
 "nbformat_minor": 5
}
