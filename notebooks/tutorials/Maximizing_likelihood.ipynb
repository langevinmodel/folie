{
 "cells": [
  {
   "cell_type": "markdown",
   "id": "0a83b53b",
   "metadata": {},
   "source": [
    "# Likelihood maximization\n",
    "In this notebook, we are going to look over likelihood maximisation and how it is implemented in folie"
   ]
  },
  {
   "cell_type": "code",
   "execution_count": null,
   "id": "82e99a68",
   "metadata": {},
   "outputs": [],
   "source": []
  },
  {
   "cell_type": "code",
   "execution_count": null,
   "id": "7c54830e",
   "metadata": {},
   "outputs": [],
   "source": []
  },
  {
   "cell_type": "markdown",
   "id": "87ee8978",
   "metadata": {},
   "source": [
    "The next step is to choose a discretisation of the likelihood"
   ]
  },
  {
   "cell_type": "code",
   "execution_count": null,
   "id": "818a3130",
   "metadata": {},
   "outputs": [],
   "source": []
  },
  {
   "cell_type": "code",
   "execution_count": null,
   "id": "7758897a",
   "metadata": {},
   "outputs": [],
   "source": [
    "for trj in data:\n",
    "    transition.preprocess_traj(trj)"
   ]
  },
  {
   "cell_type": "code",
   "execution_count": 1,
   "id": "68b4662a",
   "metadata": {},
   "outputs": [],
   "source": [
    "def log_likelihood_negative(coefficients, data):\n",
    "    weightsum = data.weights.sum()\n",
    "    return np.sum([transition(weight, coefficients)[0] * weight / weightsum for weight, trj in zip(data.weights, data)])"
   ]
  },
  {
   "cell_type": "code",
   "execution_count": null,
   "id": "7daed34d",
   "metadata": {},
   "outputs": [],
   "source": [
    "\n",
    "        \n",
    "        \n",
    "KramersMoyalEstimator(self.model).fit(data)\n",
    "coefficients0 = self.model.coefficients\n",
    "\n",
    "\n",
    "transition.use_jac = False\n",
    "res = minimize(log_likelihood_negative, coefficients0, args=(data,), callback=callback, **minimize_kwargs)\n",
    "\n",
    "self.model.coefficients = res.x\n"
   ]
  },
  {
   "cell_type": "markdown",
   "id": "00ecd0a3",
   "metadata": {},
   "source": [
    "We can also use the jacobian"
   ]
  },
  {
   "cell_type": "code",
   "execution_count": null,
   "id": "80e96301",
   "metadata": {},
   "outputs": [],
   "source": [
    "def log_likelihood_negative_w_jac(transition, weights, data, coefficients):\n",
    "    weightsum = weights.sum()\n",
    "    array_res = [transition(weight, trj, coefficients, jac=True) * weight / weightsum for weight, trj in zip(data.weights, data)]\n",
    "    likelihood = np.sum([val[0] for val in array_res])\n",
    "    likelihood_jac = np.sum([val[1] for val in array_res], axis=0)\n",
    "    return likelihood,likelihood_jac"
   ]
  },
  {
   "cell_type": "code",
   "execution_count": null,
   "id": "a2fa7c64",
   "metadata": {},
   "outputs": [],
   "source": [
    "\n",
    "res = minimize(log_likelihood_negative_w_jac, coefficients0, args=(data,), jac=True, **minimize_kwargs)\n",
    "self.model.coefficients = res.x\n"
   ]
  }
 ],
 "metadata": {
  "kernelspec": {
   "display_name": "Python 3 (ipykernel)",
   "language": "python",
   "name": "python3"
  },
  "language_info": {
   "codemirror_mode": {
    "name": "ipython",
    "version": 3
   },
   "file_extension": ".py",
   "mimetype": "text/x-python",
   "name": "python",
   "nbconvert_exporter": "python",
   "pygments_lexer": "ipython3",
   "version": "3.10.12"
  }
 },
 "nbformat": 4,
 "nbformat_minor": 5
}
