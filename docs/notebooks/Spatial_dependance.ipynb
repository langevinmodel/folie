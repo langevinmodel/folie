{
 "cells": [
  {
   "cell_type": "markdown",
   "id": "6e4c0d1a",
   "metadata": {},
   "source": [
    "# Spatial dependance"
   ]
  },
  {
   "cell_type": "markdown",
   "id": "1e1703f0",
   "metadata": {},
   "source": [
    "In folie, there is several possibilities for the spatial dependances of the drift and diffusion. This section"
   ]
  },
  {
   "cell_type": "code",
   "execution_count": null,
   "id": "6bca058b",
   "metadata": {},
   "outputs": [],
   "source": []
  },
  {
   "cell_type": "code",
   "execution_count": null,
   "id": "7f59717c",
   "metadata": {},
   "outputs": [],
   "source": []
  },
  {
   "cell_type": "markdown",
   "id": "838af326",
   "metadata": {},
   "source": [
    "## Multi dimensionnal system"
   ]
  }
 ],
 "metadata": {
  "kernelspec": {
   "display_name": "Python 3 (ipykernel)",
   "language": "python",
   "name": "python3"
  },
  "language_info": {
   "codemirror_mode": {
    "name": "ipython",
    "version": 3
   },
   "file_extension": ".py",
   "mimetype": "text/x-python",
   "name": "python",
   "nbconvert_exporter": "python",
   "pygments_lexer": "ipython3",
   "version": "3.10.12"
  }
 },
 "nbformat": 4,
 "nbformat_minor": 5
}
