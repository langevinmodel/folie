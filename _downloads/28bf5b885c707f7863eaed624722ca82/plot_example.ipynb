{
  "cells": [
    {
      "cell_type": "markdown",
      "metadata": {},
      "source": [
        "\n# Overdamped Langevin Estimation\n\nHow to run a simple estimation\n"
      ]
    },
    {
      "cell_type": "code",
      "execution_count": null,
      "metadata": {
        "collapsed": false
      },
      "outputs": [],
      "source": [
        "import numpy as np\nimport matplotlib.pyplot as plt\n\nimport folie as fl\n\n# Trouver comment on rentre les donn\u00e9es\ntrj = np.loadtxt(\"datasets/example_2d.trj\")\ndata = fl.Trajectories(dt=trj[1, 0] - trj[0, 0])\nfor i in range(1, trj.shape[1]):\n    data.append(trj[:, i : i + 1])\n\nfun = fl.functions.Linear()\nmodel = fl.models.Overdamped(fun)\nestimator = fl.LikelihoodEstimator(fl.EulerDensity(model))\nmodel = estimator.fit_fetch(data)\n\n# To find a correct parametrization of the space\nbins = np.histogram_bin_edges(data[0][\"x\"], bins=15)\nxfa = (bins[1:] + bins[:-1]) / 2.0\n\n\nfig, axs = plt.subplots(1, 2)\n# Force plot\naxs[0].set_title(\"Drift\")\naxs[0].set_xlabel(\"$x$\")\naxs[0].set_ylabel(\"$F(x)$\")\naxs[0].grid()\naxs[0].plot(xfa, model.drift(xfa.reshape(-1, 1)))\n\n# Diffusion plot\naxs[1].set_title(\"Diffusion\")\naxs[1].grid()\naxs[1].plot(xfa, model.diffusion(xfa.reshape(-1, 1)))\naxs[1].set_xlabel(\"$x$\")\naxs[1].set_ylabel(\"$D(x)$\")\nplt.show()"
      ]
    }
  ],
  "metadata": {
    "kernelspec": {
      "display_name": "Python 3",
      "language": "python",
      "name": "python3"
    },
    "language_info": {
      "codemirror_mode": {
        "name": "ipython",
        "version": 3
      },
      "file_extension": ".py",
      "mimetype": "text/x-python",
      "name": "python",
      "nbconvert_exporter": "python",
      "pygments_lexer": "ipython3",
      "version": "3.10.14"
    }
  },
  "nbformat": 4,
  "nbformat_minor": 0
}