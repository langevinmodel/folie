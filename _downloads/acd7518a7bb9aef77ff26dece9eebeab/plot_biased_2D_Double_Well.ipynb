{
  "cells": [
    {
      "cell_type": "markdown",
      "metadata": {},
      "source": [
        "\n# 2D Biased Double Well\n\nEstimation of an overdamped Langevin in presence of biased dynamics.\n"
      ]
    },
    {
      "cell_type": "code",
      "execution_count": null,
      "metadata": {
        "collapsed": false
      },
      "outputs": [],
      "source": [
        "import numpy as np\nimport matplotlib.pyplot as plt\nimport folie as fl\nfrom mpl_toolkits.mplot3d import Axes3D\nfrom copy import deepcopy\nimport time\n\ncheckpoint1 = time.time()\nx = np.linspace(-1.8, 1.8, 36)\ny = np.linspace(-1.8, 1.8, 36)\ninput = np.transpose(np.array([x, y]))\n\nD = 0.5\ndiff_function = fl.functions.Polynomial(deg=0, coefficients=D * np.eye(2, 2))\na, b = 5, 10\ndrift_quartic2d = fl.functions.Quartic2D(a=D * a, b=D * b)  # simple way to multiply D*Potential here force is the SDE force (meandispl)  ## use this when you need the drift ###\nquartic2d = fl.functions.Quartic2D(a=a, b=b)  # Real potential , here force is just -grad pot ## use this when you need the potential energy ###\n\nX, Y = np.meshgrid(x, y)\n\n# Plot potential surface\npot = quartic2d.potential_plot(X, Y)\nfig = plt.figure()\nax = plt.axes(projection=\"3d\")\nax.plot_surface(X, Y, pot, rstride=1, cstride=1, cmap=\"jet\", edgecolor=\"none\")\n\n# Plot Force function\nff = quartic2d.force(input)  # returns x and y components of the force : x_comp =ff[:,0] , y_comp =ff[:,1]\nU, V = np.meshgrid(ff[:, 0], ff[:, 1])\nfig, ax = plt.subplots()\nax.quiver(x, y, U, V)\nax.set_title(\"Force\")\n\n\n##Definition of the Collective variable function of old coordinates\ndef colvar(x, y):\n    gradient = np.array([1, 1])\n    return x + y, gradient  # need to return both colvar function q=q(x,y) and gradient (dq/dx,dq/dy)\n\n\ndt = 1e-3\nmodel_simu = fl.models.overdamped.Overdamped(drift_quartic2d, diffusion=diff_function)\nsimulator = fl.simulations.ABMD_2D_to_1DColvar_Simulator(fl.simulations.EulerStepper(model_simu), dt, colvar=colvar, k=25.0, qstop=1.2)\n\n# Choose number of trajectories and initialize positions\nntraj = 20\nq0 = np.empty(shape=[ntraj, 2])\nfor i in range(ntraj):\n    for j in range(2):\n        q0[i][j] = -1.2"
      ]
    },
    {
      "cell_type": "markdown",
      "metadata": {},
      "source": [
        "## #       CALCULATE TRAJECTORY     ##\n\n"
      ]
    },
    {
      "cell_type": "code",
      "execution_count": null,
      "metadata": {
        "collapsed": false
      },
      "outputs": [],
      "source": [
        "time_steps = 10000\ndata = simulator.run(time_steps, q0, save_every=1)\n\n# Plot the resulting trajectories\nfig, axs = plt.subplots()\nfor n, trj in enumerate(data):\n    axs.plot(trj[\"x\"][:, 0], trj[\"x\"][:, 1])\n    axs.spines[\"left\"].set_position(\"center\")\n    axs.spines[\"right\"].set_color(\"none\")\n    axs.spines[\"bottom\"].set_position(\"center\")\n    axs.spines[\"top\"].set_color(\"none\")\n    axs.xaxis.set_ticks_position(\"bottom\")\n    axs.yaxis.set_ticks_position(\"left\")\n    axs.set_xlabel(\"$X(t)$\")\n    axs.set_ylabel(\"$Y(t)$\")\n    axs.set_title(\"X-Y Trajectory\")\n    axs.set_xlim(-1.8, 1.8)\n    axs.set_ylim(-1.8, 1.8)\n    axs.grid()\n\n# plot x,y Trajectories in separate subplots\nfig, bb = plt.subplots(1, 2)\nfor n, trj in enumerate(data):\n    bb[0].plot(trj[\"x\"][:, 0])\n    bb[1].plot(trj[\"x\"][:, 1])\n\n    # Set visible  axis\n    bb[0].spines[\"right\"].set_color(\"none\")\n    bb[0].spines[\"bottom\"].set_position(\"center\")\n    bb[0].spines[\"top\"].set_color(\"none\")\n    bb[0].xaxis.set_ticks_position(\"bottom\")\n    bb[0].yaxis.set_ticks_position(\"left\")\n    bb[0].set_xlabel(\"$timestep$\")\n    bb[0].set_ylabel(\"$X(t)$\")\n\n    # Set visible axis\n    bb[1].spines[\"right\"].set_color(\"none\")\n    bb[1].spines[\"bottom\"].set_position(\"center\")\n    bb[1].spines[\"top\"].set_color(\"none\")\n    bb[1].xaxis.set_ticks_position(\"bottom\")\n    bb[1].yaxis.set_ticks_position(\"left\")\n    bb[1].set_xlabel(\"$timestep$\")\n    bb[1].set_ylabel(\"$Y(t)$\")\n\n    bb[0].set_title(\"X Dynamics\")\n    bb[1].set_title(\"Y Dynamics\")"
      ]
    },
    {
      "cell_type": "markdown",
      "metadata": {},
      "source": [
        "## PROJECTION ALONG CHOSEN COORDINATE   #\n\n"
      ]
    },
    {
      "cell_type": "code",
      "execution_count": null,
      "metadata": {
        "collapsed": false
      },
      "outputs": [],
      "source": [
        "# Choose unit versor of direction\nu = np.array([1, 1])\nu_norm = (1 / np.linalg.norm(u, 2)) * u\nw = np.empty_like(trj[\"x\"][:, 0])\nb = np.empty_like(trj[\"x\"][:, 0])\nproj_data = fl.data.trajectories.Trajectories(dt=dt)  # create new Trajectory object in which to store the projected trajectory dictionaries\nfig, axs = plt.subplots()\nfor n, trj in enumerate(data):\n    for i in range(len(trj[\"x\"])):\n        w[i] = np.dot(trj[\"x\"][i], u_norm)\n        b[i] = np.dot(trj[\"bias\"][i], u_norm)\n    proj_data.append(fl.Trajectory(1e-3, deepcopy(w.reshape(len(trj[\"x\"][:, 0]), 1)), bias=deepcopy(b.reshape(len(trj[\"bias\"][:, 0]), 1))))\n    axs.plot(proj_data[n][\"x\"])\n    axs.set_xlabel(\"$timesteps$\")\n    axs.set_ylabel(\"$w(t)$\")\n    axs.set_title(\"trajectory projected along $u =$\" + str(u) + \" direction\")\n    axs.grid()"
      ]
    },
    {
      "cell_type": "markdown",
      "metadata": {},
      "source": [
        "## #          MODEL TRAINING           ##\n\n"
      ]
    },
    {
      "cell_type": "code",
      "execution_count": null,
      "metadata": {
        "collapsed": false
      },
      "outputs": [],
      "source": [
        "checkpoint2 = time.time()\n\ndomain = fl.MeshedDomain.create_from_range(np.linspace(proj_data.stats.min, proj_data.stats.max, 4).ravel())\ntrainmodel = fl.models.OverdampedSplines1D(domain=domain)\n\nxfa = np.linspace(proj_data.stats.min, proj_data.stats.max, 75)\ndrift_exact = (xfa**2 - 1.0) ** 2\n\nfig, axs = plt.subplots(1, 2)\naxs[0].set_title(\"Drift\")\naxs[0].set_xlabel(\"$x$\")\naxs[0].set_ylabel(\"$F(x)$\")\naxs[0].grid()\naxs[1].set_title(\"Diffusion\")\naxs[1].set_xlabel(\"$x$\")\naxs[1].set_ylabel(\"$D(x)$\")\naxs[1].grid()\n\n\nKM_Estimator = fl.KramersMoyalEstimator(deepcopy(trainmodel))\nres_KM = KM_Estimator.fit_fetch(proj_data)\n\naxs[0].plot(xfa, res_KM.drift(xfa.reshape(-1, 1)), marker=\"x\", label=\"KramersMoyal\")\naxs[1].plot(xfa, res_KM.diffusion(xfa.reshape(-1, 1)), marker=\"x\", label=\"KramersMoyal\")\nprint(\"KramersMoyal \", res_KM.coefficients)\nfor name, marker, transitioncls in zip(\n    [\"Euler\", \"Elerian\", \"Kessler\", \"Drozdov\"],\n    [\"|\", \"1\", \"2\", \"3\"],\n    [\n        fl.EulerDensity,\n        fl.ElerianDensity,\n        fl.KesslerDensity,\n        fl.DrozdovDensity,\n    ],\n):\n    estimator = fl.LikelihoodEstimator(transitioncls(deepcopy(trainmodel)))\n    res = estimator.fit_fetch(deepcopy(proj_data))\n    print(name, res.coefficients)\n    axs[0].plot(xfa, res.drift(xfa.reshape(-1, 1)), marker=marker, label=name)\n    axs[1].plot(xfa, res.diffusion(xfa.reshape(-1, 1)), marker=marker, label=name)\n\naxs[0].legend()\naxs[1].legend()\ncheckpoint3 = time.time()\n\nprint(\"Training time =\", checkpoint3 - checkpoint2, \"seconds\")\nprint(\"Overall time =\", checkpoint3 - checkpoint1, \"seconds\")\n\nplt.show()"
      ]
    }
  ],
  "metadata": {
    "kernelspec": {
      "display_name": "Python 3",
      "language": "python",
      "name": "python3"
    },
    "language_info": {
      "codemirror_mode": {
        "name": "ipython",
        "version": 3
      },
      "file_extension": ".py",
      "mimetype": "text/x-python",
      "name": "python",
      "nbconvert_exporter": "python",
      "pygments_lexer": "ipython3",
      "version": "3.10.14"
    }
  },
  "nbformat": 4,
  "nbformat_minor": 0
}