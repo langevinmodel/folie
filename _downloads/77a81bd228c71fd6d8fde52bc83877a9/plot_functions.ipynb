{
  "cells": [
    {
      "cell_type": "markdown",
      "metadata": {},
      "source": [
        "\n# Functional set\n\nIn this example, we present a subset of implemented functions.\n"
      ]
    },
    {
      "cell_type": "code",
      "execution_count": null,
      "metadata": {
        "collapsed": false
      },
      "outputs": [],
      "source": [
        "import numpy as np\nimport matplotlib.pyplot as plt\n\nimport folie.functions as ff\nimport folie as fl\n\nfrom scipy.interpolate import splrep\n\nx_range = np.linspace(-2, 2, 30).reshape(-1, 1)\n\ndomain = fl.MeshedDomain.create_from_range(np.linspace(-2, 2, 6))\n\n\nt, c, k = splrep(x_range, x_range**4 - 2 * x_range**2 + 0.5 * x_range)\n\nfun_set = {\n    \"Linear\": ff.Linear(domain=domain),\n    \"Polynom\": ff.Polynomial(3, domain=domain),\n    \"Hermite Polynom\": ff.Polynomial(3, np.polynomial.Hermite, domain=domain),\n    \"Fourier\": ff.Fourier(order=2, freq=1.0, domain=domain),\n    \"B Splines\": ff.BSplinesFunction(domain=domain, k=3),\n}\n\nfig_kernel, axs = plt.subplots(2, 3)\nm = 0\nfor key, fun in fun_set.items():\n    axs[m // 3][m % 3].set_title(key)\n    axs[m // 3][m % 3].set_xlabel(\"$x$\")\n    axs[m // 3][m % 3].set_ylabel(\"$h_k(x)$\")\n    axs[m // 3][m % 3].grid()\n    y = fun.grad_coeffs(x_range)\n\n    for n in range(y.shape[1]):\n        axs[m // 3][m % 3].plot(x_range[:, 0], y[:, n])\n    m += 1\nplt.show()"
      ]
    }
  ],
  "metadata": {
    "kernelspec": {
      "display_name": "Python 3",
      "language": "python",
      "name": "python3"
    },
    "language_info": {
      "codemirror_mode": {
        "name": "ipython",
        "version": 3
      },
      "file_extension": ".py",
      "mimetype": "text/x-python",
      "name": "python",
      "nbconvert_exporter": "python",
      "pygments_lexer": "ipython3",
      "version": "3.10.14"
    }
  },
  "nbformat": 4,
  "nbformat_minor": 0
}