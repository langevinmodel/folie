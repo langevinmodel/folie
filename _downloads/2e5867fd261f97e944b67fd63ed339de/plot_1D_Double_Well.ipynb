{
  "cells": [
    {
      "cell_type": "markdown",
      "metadata": {},
      "source": [
        "\n# 1D Double Well\n\nEstimation of an overdamped Langevin.\n"
      ]
    },
    {
      "cell_type": "code",
      "execution_count": null,
      "metadata": {
        "collapsed": false
      },
      "outputs": [],
      "source": [
        "import numpy as np\nimport matplotlib.pyplot as plt\nimport folie as fl\n\ncoeff = 0.2 * np.array([0, 0, -4.5, 0, 0.1])\nfree_energy = np.polynomial.Polynomial(coeff)\nD = 0.5\ndrift_coeff = D * np.array([-coeff[1], -2 * coeff[2], -3 * coeff[3], -4 * coeff[4]])\n\ndrift_function = fl.functions.Polynomial(deg=3, coefficients=drift_coeff)\ndiff_function = fl.functions.Polynomial(deg=0, coefficients=np.array(D))\n\n# Plot of Free Energy and Force\nx_values = np.linspace(-7, 7, 100)\n# fig, axs = plt.subplots(1, 2)\n# axs[0].plot(x_values, free_energy(x_values))\n# axs[1].plot(x_values, drift_function(x_values.reshape(len(x_values), 1)))\n# axs[0].set_title(\"Potential\")\n# axs[0].set_xlabel(\"$x$\")\n# axs[0].set_ylabel(\"$V(x)$\")\n# axs[0].grid()\n# axs[1].set_title(\"Force\")\n# axs[1].set_xlabel(\"$x$\")\n# axs[1].set_ylabel(\"$F(x)$\")\n# axs[1].grid()\n\n# Define model to simulate and type of simulator to use\ndt = 1e-3\nmodel_simu = fl.models.overdamped.Overdamped(drift_function, diffusion=diff_function)\nsimulator = fl.simulations.Simulator(fl.simulations.EulerStepper(model_simu), dt)\n\n\n# initialize positions\nntraj = 30\nq0 = np.empty(ntraj)\nfor i in range(len(q0)):\n    q0[i] = 0\n# Calculate Trajectory\ntime_steps = 10000\ndata = simulator.run(time_steps, q0, save_every=1)\n\n# Plot resulting Trajectories\nfig, axs = plt.subplots()\nfor n, trj in enumerate(data):\n    axs.plot(trj[\"x\"])\n    axs.set_title(\"Trajectory\")\n\n\nfig, axs = plt.subplots(1, 2)\naxs[0].set_title(\"Force\")\naxs[0].set_xlabel(\"$x$\")\naxs[0].set_ylabel(\"$F(x)$\")\naxs[0].grid()\n\naxs[1].set_title(\"Diffusion Coefficient\")\naxs[1].set_xlabel(\"$x$\")\naxs[1].set_ylabel(\"$D(x)$\")\naxs[1].grid()\n\nxfa = np.linspace(-7.0, 7.0, 75)\naxs[0].plot(xfa, model_simu.pos_drift(xfa.reshape(-1, 1)), label=\"Exact\")\naxs[1].plot(xfa, model_simu.diffusion(xfa.reshape(-1, 1)), label=\"Exact\")\ntraindrift = fl.functions.Polynomial(deg=3, coefficients=np.array([0, 0, 0, 0]))\ntrainmodel = fl.models.Overdamped(traindrift, diffusion=fl.functions.Polynomial(deg=0, coefficients=np.asarray([0.9])), has_bias=False)\n\nname = \"KramersMoyal\"\nestimator = fl.KramersMoyalEstimator(trainmodel)\nres = estimator.fit_fetch(data)\naxs[0].plot(xfa, res.drift(xfa.reshape(-1, 1)), \"--\", label=name)\naxs[1].plot(xfa, res.diffusion(xfa.reshape(-1, 1)), \"--\", label=name)\n\n\nfor name, marker, transitioncls in zip(\n    [\"Euler\", \"Elerian\", \"Kessler\", \"Drozdov\"],\n    [\"x\", \"1\", \"2\", \"3\"],\n    [\n        fl.EulerDensity,\n        fl.ElerianDensity,\n        fl.KesslerDensity,\n        fl.DrozdovDensity,\n    ],\n):\n    estimator = fl.LikelihoodEstimator(transitioncls(trainmodel))\n    res = estimator.fit_fetch(data)\n    # print(res.coefficients)\n    axs[0].plot(xfa, res.pos_drift(xfa.reshape(-1, 1)), marker=marker, label=name)\n    axs[1].plot(xfa, res.diffusion(xfa.reshape(-1, 1)), marker=marker, label=name)\n\n\nname = \"Kramers Moyal\"\nres = fl.KramersMoyalEstimator(trainmodel).fit_fetch(data)\naxs[0].plot(xfa, res.pos_drift(xfa.reshape(-1, 1)), \"--\", label=name)\naxs[1].plot(xfa, res.diffusion(xfa.reshape(-1, 1)), \"--\", label=name)\n\n\naxs[0].legend()\naxs[1].legend()\n\n# Compute MFPT from one well to another\nplt.figure()\n\nx_mfpt, mfpt = fl.analysis.mfpt_1d(model_simu, -5.0, [-10.0, 10.0], Npoints=500)\nplt.plot(x_mfpt, mfpt, label=\"Right to left\")\nx_mfpt, mfpt = fl.analysis.mfpt_1d(model_simu, 5.0, [-10.0, 10.0], Npoints=500)\nplt.plot(x_mfpt, mfpt, label=\"Left to right\")\n\nx_mfpt, mfpt = fl.analysis.mfpt_1d(res, -5.0, [-10.0, 10.0], Npoints=500)\nplt.plot(x_mfpt, mfpt, label=\"Right to left Estimation\")\nx_mfpt, mfpt = fl.analysis.mfpt_1d(res, 5.0, [-10.0, 10.0], Npoints=500)\nplt.plot(x_mfpt, mfpt, label=\"Left to right Estimation\")\nplt.legend()\nplt.show()"
      ]
    }
  ],
  "metadata": {
    "kernelspec": {
      "display_name": "Python 3",
      "language": "python",
      "name": "python3"
    },
    "language_info": {
      "codemirror_mode": {
        "name": "ipython",
        "version": 3
      },
      "file_extension": ".py",
      "mimetype": "text/x-python",
      "name": "python",
      "nbconvert_exporter": "python",
      "pygments_lexer": "ipython3",
      "version": "3.10.14"
    }
  },
  "nbformat": 4,
  "nbformat_minor": 0
}