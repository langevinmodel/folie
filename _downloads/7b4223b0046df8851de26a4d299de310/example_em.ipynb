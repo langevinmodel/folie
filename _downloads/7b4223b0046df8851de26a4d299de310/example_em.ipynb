{
  "cells": [
    {
      "cell_type": "markdown",
      "metadata": {},
      "source": [
        "\n# Hidden Overdamped Langevin Estimation\n\nHow to run a simple estimation\n"
      ]
    },
    {
      "cell_type": "code",
      "execution_count": null,
      "metadata": {
        "collapsed": false
      },
      "outputs": [],
      "source": [
        "import numpy as np\nimport matplotlib.pyplot as plt\n\nimport folie as fl\n\n# Trouver comment on rentre les donn\u00e9es\ntrj = np.loadtxt(\"datasets/example_2d.trj\")\ndata = fl.Trajectories(dt=trj[1, 0] - trj[0, 0])\n# for i in range(1, trj.shape[1]):\ndata.append(trj[:, 1:2])\n\nfun_lin = fl.functions.Linear()\nfun_cst = fl.functions.Constant()\nmodel = fl.models.OverdampedHidden(fun_lin, fun_lin.copy(), fun_cst, dim=1, dim_h=2)\nestimator = fl.EMEstimator(fl.EulerDensity(model), max_iter=3, verbose=2, verbose_interval=1)\nmodel = estimator.fit_fetch(data)\n\n# To find a correct parametrization of the space\nbins = np.histogram_bin_edges(data[0][\"x\"], bins=15)\nxfa = (bins[1:] + bins[:-1]) / 2.0\n\n\nfig, axs = plt.subplots(1, 3)\n# Force plot\naxs[0].set_title(\"Drift\")\naxs[0].set_xlabel(\"$x$\")\naxs[0].set_ylabel(\"$F(x)$\")\naxs[0].grid()\naxs[0].plot(xfa, model.pos_drift(xfa.reshape(-1, 1)))\n\n\n# Friction plot\naxs[1].set_title(\"Friction\")\naxs[1].set_xlabel(\"$x$\")\naxs[1].set_ylabel(\"$E_2(x)$\")\naxs[1].grid()\naxs[1].plot(xfa, model.friction(xfa.reshape(-1, 1))[:, 0, :])\n\n# Diffusion plot\naxs[2].set_title(\"Diffusion\")\naxs[2].grid()\naxs[2].plot(xfa, model.diffusion(xfa.reshape(-1, 1))[:, 0, 0])\naxs[2].set_xlabel(\"$x$\")\naxs[2].set_ylabel(\"$D(x)$\")\nplt.show()"
      ]
    }
  ],
  "metadata": {
    "kernelspec": {
      "display_name": "Python 3",
      "language": "python",
      "name": "python3"
    },
    "language_info": {
      "codemirror_mode": {
        "name": "ipython",
        "version": 3
      },
      "file_extension": ".py",
      "mimetype": "text/x-python",
      "name": "python",
      "nbconvert_exporter": "python",
      "pygments_lexer": "ipython3",
      "version": "3.10.14"
    }
  },
  "nbformat": 4,
  "nbformat_minor": 0
}