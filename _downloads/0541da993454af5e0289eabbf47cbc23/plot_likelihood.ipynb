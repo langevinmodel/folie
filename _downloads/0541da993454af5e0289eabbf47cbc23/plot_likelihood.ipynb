{
  "cells": [
    {
      "cell_type": "markdown",
      "metadata": {},
      "source": [
        "\n# Likelihood functions\n\nA set of likelihood functions used for estimation\n"
      ]
    },
    {
      "cell_type": "code",
      "execution_count": null,
      "metadata": {
        "collapsed": false
      },
      "outputs": [],
      "source": [
        "import numpy as np\nimport matplotlib.pyplot as plt\n\nimport folie as fl\n\n# Trouver comment on rentre les donn\u00e9es\ntrj = np.loadtxt(\"datasets/example_2d.trj\")\ndata = fl.Trajectories(dt=trj[1, 0] - trj[0, 0])\ndata.append(trj[:, 1:2])\n\nmodel = fl.models.BrownianMotion()\n\nfig, axs = plt.subplots(1, 2)\naxs[0].set_title(\"Drift\")\naxs[0].set_xlabel(\"$f$\")\naxs[0].set_ylabel(\"$L(f,1.0)$\")\naxs[0].grid()\n\n\naxs[1].set_title(\"Diffusion\")\naxs[1].grid()\naxs[1].set_xlabel(\"$\\\\sigma$\")\naxs[1].set_ylabel(\"$L(1.0,\\\\sigma)$\")\n\n\ndrift_range = np.linspace(-1, 1, 25)\ndiff_range = np.linspace(0.5, 2, 25)\n\n\nfor name, transitioncls in zip(\n    [\"Euler\", \"Elerian\", \"Kessler\", \"Drozdov\"],\n    [\n        fl.EulerDensity,\n        fl.ElerianDensity,\n        fl.KesslerDensity,\n        fl.DrozdovDensity,\n    ],\n):\n    likelihood = transitioncls(model)\n    likelihood.preprocess_traj(data[0])\n    likelihood_vals_drift = np.zeros_like(drift_range)\n    for n, f in enumerate(drift_range):\n        likelihood_vals_drift[n] = likelihood(1.0, data[0], np.array([f, 1.0]))[0]\n    axs[0].plot(drift_range, likelihood_vals_drift, label=name)\n    likelihood_vals_diff = np.zeros_like(diff_range)\n    for n, d in enumerate(diff_range):\n        likelihood_vals_diff[n] = likelihood(1.0, data[0], np.array([1.0, d]))[0]\n\n    axs[1].plot(diff_range, likelihood_vals_diff, label=name)\n\naxs[0].legend()\naxs[1].legend()\nplt.show()"
      ]
    }
  ],
  "metadata": {
    "kernelspec": {
      "display_name": "Python 3",
      "language": "python",
      "name": "python3"
    },
    "language_info": {
      "codemirror_mode": {
        "name": "ipython",
        "version": 3
      },
      "file_extension": ".py",
      "mimetype": "text/x-python",
      "name": "python",
      "nbconvert_exporter": "python",
      "pygments_lexer": "ipython3",
      "version": "3.10.14"
    }
  },
  "nbformat": 4,
  "nbformat_minor": 0
}