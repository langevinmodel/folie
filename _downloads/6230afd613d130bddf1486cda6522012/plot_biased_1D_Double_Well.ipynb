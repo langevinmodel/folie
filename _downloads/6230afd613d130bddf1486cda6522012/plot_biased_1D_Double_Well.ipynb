{
  "cells": [
    {
      "cell_type": "markdown",
      "metadata": {},
      "source": [
        "\n# 1D Biased Double Well\n\nEstimation of an overdamped Langevin in presence of biased dynamics.\n"
      ]
    },
    {
      "cell_type": "code",
      "execution_count": null,
      "metadata": {
        "collapsed": false
      },
      "outputs": [],
      "source": [
        "import numpy as np\nimport matplotlib.pyplot as plt\nimport folie as fl\nfrom copy import deepcopy\n\ncoeff = 0.2 * np.array([0, 0, -4.5, 0, 0.1])\nfree_energy = np.polynomial.Polynomial(coeff)\nD = np.array([0.5])\n\ndrift_coeff = D * np.array([-coeff[1], -2 * coeff[2], -3 * coeff[3], -4 * coeff[4]])\ndrift_function = fl.functions.Polynomial(deg=3, coefficients=drift_coeff)\ndiff_function = fl.functions.Polynomial(deg=0, coefficients=D)\n\n# Plot of Free Energy and Force\nx_values = np.linspace(-7, 7, 100)\nfig, axs = plt.subplots(1, 2)\naxs[0].plot(x_values, free_energy(x_values))\naxs[1].plot(x_values, drift_function(x_values.reshape(len(x_values), 1)))\naxs[0].set_title(\"Potential\")\naxs[0].set_xlabel(\"$x$\")\naxs[0].set_ylabel(\"$V(x)$\")\naxs[0].grid()\naxs[1].set_title(\"Drift\")\naxs[1].set_xlabel(\"$x$\")\naxs[1].set_ylabel(\"$F(x)$\")\naxs[1].grid()\n\n# Define model to simulate and type of simulator to use\nmodel_simu = fl.models.overdamped.Overdamped(drift_function, diffusion=diff_function)\nsimulator = fl.simulations.ABMD_Simulator(fl.simulations.EulerStepper(model_simu), 1e-3, k=10.0, xstop=6.0)\n\n# initialize positions\nntraj = 30\nq0 = np.empty(ntraj)\nfor i in range(len(q0)):\n    q0[i] = -6\n# Calculate Trajectory\ntime_steps = 25000\ndata = simulator.run(time_steps, q0, save_every=1)\nxmax = np.concatenate(simulator.xmax_hist, axis=1).T\n\n# Plot the resulting trajectories\nfig, axs = plt.subplots(1, 2)\nfor n, trj in enumerate(data):\n    axs[0].plot(trj[\"x\"])\n    axs[1].plot(xmax[:, n])\n    axs[1].set_xlabel(\"$timestep$\")\n    axs[1].set_ylabel(\"$x(t)$\")\n    axs[1].grid()\n\nfig, axs = plt.subplots(1, 2)\naxs[0].set_title(\"Drift\")\naxs[0].set_xlabel(\"$x$\")\naxs[0].set_ylabel(\"$F(x)$\")\naxs[0].grid()\n\naxs[1].set_title(\"Diffusion Coefficient\")  # i think should be diffusion coefficient\naxs[1].set_xlabel(\"$x$\")\naxs[1].set_ylabel(\"$D(x)$\")\naxs[1].grid()\n\nxfa = np.linspace(-7.0, 7.0, 75)\nmodel_simu.remove_bias()\naxs[0].plot(xfa, model_simu.drift(xfa.reshape(-1, 1)), label=\"Exact\")\naxs[1].plot(xfa, model_simu.diffusion(xfa.reshape(-1, 1)), label=\"Exact\")\n\ndomain = fl.MeshedDomain.create_from_range(np.linspace(data.stats.min, data.stats.max, 4).ravel())\ntrainmodel = fl.models.Overdamped(fl.functions.BSplinesFunction(domain), has_bias=True)\n\nname = \"KramersMoyal\"\nestimator = fl.KramersMoyalEstimator(trainmodel)\nres = estimator.fit_fetch(data)\nres.remove_bias()\naxs[0].plot(xfa, res.drift(xfa.reshape(-1, 1)), \"--\", label=name)\naxs[1].plot(xfa, res.diffusion(xfa.reshape(-1, 1)), \"--\", label=name)\n\n\nfor name, marker, transitioncls in zip(\n    [\"Euler\", \"Elerian\", \"Kessler\", \"Drozdov\"],\n    [\"x\", \"1\", \"2\", \"3\"],\n    [\n        fl.EulerDensity,\n        fl.ElerianDensity,\n        fl.KesslerDensity,\n        fl.DrozdovDensity,\n    ],\n):\n    trainmodel = fl.models.Overdamped(fl.functions.BSplinesFunction(domain), has_bias=True)\n    estimator = fl.LikelihoodEstimator(transitioncls(trainmodel), n_jobs=4)\n\n    res = estimator.fit_fetch(deepcopy(data))\n\n    print(name, res.coefficients)\n    res.remove_bias()\n    axs[0].plot(xfa, res.drift(xfa.reshape(-1, 1)), marker=marker, label=name)\n    axs[1].plot(xfa, res.diffusion(xfa.reshape(-1, 1)), marker=marker, label=name)\naxs[0].legend()\naxs[1].legend()\nplt.show()"
      ]
    }
  ],
  "metadata": {
    "kernelspec": {
      "display_name": "Python 3",
      "language": "python",
      "name": "python3"
    },
    "language_info": {
      "codemirror_mode": {
        "name": "ipython",
        "version": 3
      },
      "file_extension": ".py",
      "mimetype": "text/x-python",
      "name": "python",
      "nbconvert_exporter": "python",
      "pygments_lexer": "ipython3",
      "version": "3.10.14"
    }
  },
  "nbformat": 4,
  "nbformat_minor": 0
}